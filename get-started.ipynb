{
 "cells": [
  {
   "cell_type": "code",
   "execution_count": null,
   "id": "9bef963a",
   "metadata": {},
   "outputs": [
    {
     "name": "stdout",
     "output_type": "stream",
     "text": [
      "🏃 View run sneaky-grouse-393 at: http://127.0.0.1:5000/#/experiments/693635574476594186/runs/99c40c4a56c1461099072f31b9f78643\n",
      "🧪 View experiment at: http://127.0.0.1:5000/#/experiments/693635574476594186\n",
      "Experiments: [<Experiment: artifact_location='mlflow-artifacts:/693635574476594186', creation_time=1745401019390, experiment_id='693635574476594186', last_update_time=1745401019390, lifecycle_stage='active', name='example_experiment', tags={}>, <Experiment: artifact_location='mlflow-artifacts:/0', creation_time=1745401013940, experiment_id='0', last_update_time=1745401013940, lifecycle_stage='active', name='Default', tags={}>]\n"
     ]
    }
   ],
   "source": [
    "import mlflow\n",
    "from mlflow.tracking import MlflowClient\n",
    "\n",
    "# Set the tracking URI for the MLflow server\n",
    "mlflow.set_tracking_uri(\"http://127.0.0.1:5000\")\n",
    "\n",
    "# Start an experiment\n",
    "experiment_name = \"example_experiment\"\n",
    "mlflow.set_experiment(experiment_name)\n",
    "\n",
    "# Log a sample run\n",
    "with mlflow.start_run():\n",
    "    mlflow.log_param(\"param1\", 5)\n",
    "    mlflow.log_metric(\"metric1\", 0.89)\n",
    "    mlflow.log_param(\"param2\", 5)\n",
    "    mlflow.log_metric(\"metric2\", 0.89)\n",
    "\n",
    "# Verify the experiment and run\n",
    "client = MlflowClient()\n",
    "experiments = client.search_experiments()\n",
    "print(\"Experiments:\", experiments)"
   ]
  }
 ],
 "metadata": {
  "kernelspec": {
   "display_name": "Python 3",
   "language": "python",
   "name": "python3"
  },
  "language_info": {
   "codemirror_mode": {
    "name": "ipython",
    "version": 3
   },
   "file_extension": ".py",
   "mimetype": "text/x-python",
   "name": "python",
   "nbconvert_exporter": "python",
   "pygments_lexer": "ipython3",
   "version": "3.12.7"
  }
 },
 "nbformat": 4,
 "nbformat_minor": 5
}
