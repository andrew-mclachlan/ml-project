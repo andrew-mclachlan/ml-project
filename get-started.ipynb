{
 "cells": [
  {
   "cell_type": "code",
   "execution_count": 2,
   "id": "9bef963a",
   "metadata": {},
   "outputs": [
    {
     "name": "stdout",
     "output_type": "stream",
     "text": [
      "🏃 View run chill-steed-270 at: http://127.0.0.1:5000/#/experiments/113720388857796391/runs/9a28618067124946823764333adaeead\n",
      "🧪 View experiment at: http://127.0.0.1:5000/#/experiments/113720388857796391\n",
      "Experiments: [<Experiment: artifact_location='mlflow-artifacts:/113720388857796391', creation_time=1745662398466, experiment_id='113720388857796391', last_update_time=1745662398466, lifecycle_stage='active', name='example_experiment', tags={}>, <Experiment: artifact_location='mlflow-artifacts:/0', creation_time=1745662313337, experiment_id='0', last_update_time=1745662313337, lifecycle_stage='active', name='Default', tags={}>]\n"
     ]
    }
   ],
   "source": [
    "import mlflow\n",
    "from mlflow.tracking import MlflowClient\n",
    "\n",
    "# Set the tracking URI for the MLflow server\n",
    "mlflow.set_tracking_uri(\"http://127.0.0.1:5000\")\n",
    "\n",
    "# Start an experiment\n",
    "experiment_name = \"example_experiment\"\n",
    "mlflow.set_experiment(experiment_name)\n",
    "\n",
    "# Log a sample run\n",
    "with mlflow.start_run():\n",
    "    mlflow.log_param(\"param1\", 5)\n",
    "    mlflow.log_metric(\"metric1\", 0.89)\n",
    "    mlflow.log_param(\"param2\", 5)\n",
    "    mlflow.log_metric(\"metric2\", 0.89)\n",
    "    mlflow.log_param(\"param3\", 5)\n",
    "    mlflow.log_metric(\"metric3\", 0.89)\n",
    "\n",
    "# Verify the experiment and run\n",
    "client = MlflowClient()\n",
    "experiments = client.search_experiments()\n",
    "print(\"Experiments:\", experiments)"
   ]
  }
 ],
 "metadata": {
  "kernelspec": {
   "display_name": "mlops",
   "language": "python",
   "name": "python3"
  },
  "language_info": {
   "codemirror_mode": {
    "name": "ipython",
    "version": 3
   },
   "file_extension": ".py",
   "mimetype": "text/x-python",
   "name": "python",
   "nbconvert_exporter": "python",
   "pygments_lexer": "ipython3",
   "version": "3.12.9"
  }
 },
 "nbformat": 4,
 "nbformat_minor": 5
}
